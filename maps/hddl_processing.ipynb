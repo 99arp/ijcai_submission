{
 "cells": [
  {
   "cell_type": "code",
   "execution_count": 56,
   "metadata": {},
   "outputs": [],
   "source": [
    "import json \n",
    "import re \n",
    "\n",
    "\n",
    "#hddl_file = open(\"/home/qnc/upf-hierarchical/domain/domain_fond.hddl\", \"r\")\n",
    "\n",
    "with open('/home/qnc/upf-hierarchical/domain/domain_fond.hddl') as f:\n",
    "  hddl_text = \"\\n\".join([l.rstrip(\"\\n\") for l in f]) \n",
    "\n",
    "\n"
   ]
  },
  {
   "cell_type": "code",
   "execution_count": 58,
   "metadata": {},
   "outputs": [
    {
     "name": "stdout",
     "output_type": "stream",
     "text": [
      "<re.Match object; span=(1889, 1960), match='(:predicates ;todo: define predicates here\\n\\n   >\n",
      " ;todo: define predicates here\n",
      "\n",
      "        (p_isSmokeDetected\n",
      "[]\n",
      "[]\n"
     ]
    }
   ],
   "source": [
    "def extract_types(text): \n",
    "    types_section = re.search(r'\\(:types\\s*(.*?)\\)', text, re.DOTALL)\n",
    "    types = []\n",
    "    if types_section:\n",
    "        types_content = types_section.group(1)\n",
    "        # Splitting the content into lines\n",
    "        lines = types_content.split('\\n')\n",
    "        # Extracting elements before -\n",
    "        elements_before_dash = []\n",
    "        for line in lines:\n",
    "\n",
    "            # Cleaning up the line by removing extra spaces and comments\n",
    "            line = line.strip()\n",
    "            line = re.sub(r';.*', '', line)  # Remove comments\n",
    "            line = line.strip()\n",
    "            if line and '-' in line:\n",
    "                element = line.split('-')[0].strip()\n",
    "                #print(element)\n",
    "                for e in element.split(\" \"):\n",
    "                    #print(e)\n",
    "                    types.append(e)\n",
    "\n",
    "        # for element in elements_before_dash.split(\" \"):\n",
    "        #     types.append(element)\n",
    "    return types\n",
    "\n",
    "\n",
    "def extract_predicate_arguments(text):\n",
    "    predicates_section= re.search(r'\\(:predicates(.*?)\\)', text, re.DOTALL) \n",
    "    \n",
    "    print(predicates_section)\n",
    "    if predicates_section:\n",
    "        predicates_content = predicates_section.group(1)\n",
    "        print(predicates_content)\n",
    "        # Use regular expressions to extract the first word after '(' and last word before ')' in the predicates section\n",
    "        pattern = r'\\((\\w+)\\s[^\\)]*\\)'\n",
    "        matches = re.findall(pattern, predicates_content)\n",
    "        print(matches)\n",
    "        # Extract the first word after '(' and last word before ')' for each predicate in the predicates section\n",
    "        results = [(match.split()[0], match.split()[-1]) for match in matches]\n",
    "        print(results)\n",
    "\n",
    "extract_predicate_arguments(hddl_text)"
   ]
  },
  {
   "cell_type": "code",
   "execution_count": 51,
   "metadata": {},
   "outputs": [],
   "source": [
    "types = extract_types(hddl_text)\n",
    "unique_ids = {}\n",
    "object_dump =\"hddl_objects_python.json\"\n",
    "for t in types: \n",
    "    unique_ids.update({t:f\"{t.lower()}_1\"})\n",
    "with open(object_dump, \"w\") as f: \n",
    "    \n",
    "    json.dump(unique_ids, f)\n"
   ]
  }
 ],
 "metadata": {
  "kernelspec": {
   "display_name": "upf",
   "language": "python",
   "name": "python3"
  },
  "language_info": {
   "codemirror_mode": {
    "name": "ipython",
    "version": 3
   },
   "file_extension": ".py",
   "mimetype": "text/x-python",
   "name": "python",
   "nbconvert_exporter": "python",
   "pygments_lexer": "ipython3",
   "version": "3.12.1"
  }
 },
 "nbformat": 4,
 "nbformat_minor": 2
}
